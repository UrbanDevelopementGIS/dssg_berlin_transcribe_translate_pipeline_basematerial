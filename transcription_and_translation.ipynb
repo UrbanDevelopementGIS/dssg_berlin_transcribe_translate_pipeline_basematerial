{
  "cells": [
    {
      "cell_type": "code",
      "execution_count": null,
      "metadata": {
        "id": "_NcfLlgBMzd-"
      },
      "outputs": [],
      "source": []
    },
    {
      "cell_type": "markdown",
      "metadata": {
        "id": "F0DOUKLIMz5D"
      },
      "source": [
        "# Transcription and Translation Pipelines:\n",
        "\n",
        "### Go to Runtime -> Change Runtime Type -> Accelerate GPU\n",
        "\n",
        "\n",
        "Install required package and import packags:"
      ]
    },
    {
      "cell_type": "code",
      "source": [
        "!pip install git+https://github.com/openai/whisper.git "
      ],
      "metadata": {
        "id": "WZ0_p2acNhxD"
      },
      "execution_count": null,
      "outputs": []
    },
    {
      "cell_type": "code",
      "execution_count": 1,
      "metadata": {
        "id": "lmgwfy_yJB5m"
      },
      "outputs": [],
      "source": [
        "import whisper\n",
        "#initialize model, maybe medium or small is sufficient?\n",
        "model = whisper.load_model(\"large\")\n"
      ]
    },
    {
      "cell_type": "code",
      "execution_count": 2,
      "metadata": {
        "id": "3e65r-ahIM-_"
      },
      "outputs": [],
      "source": [
        "def transcribe(audio):\n",
        "  text_dict = model.transcribe(audio)\n",
        "  text = text_dict[\"text\"]\n",
        "  #Uncomment below if you need access to the entire dictionary, Default is only the text\n",
        "  return text #, text_dict\n",
        "\n",
        "\n",
        "#Language is source language, target is always EN\n",
        "def translate(audio, language):\n",
        "  languages = {\"af_za\": \"Afrikaans\", \"am_et\": \"Amharic\", \"ar_eg\": \"Arabic\", \"as_in\": \"Assamese\", \"az_az\": \"Azerbaijani\", \"be_by\": \"Belarusian\", \"bg_bg\": \"Bulgarian\", \"bn_in\": \"Bengali\", \"bs_ba\": \"Bosnian\", \"ca_es\": \"Catalan\", \"cmn_hans_cn\": \"Chinese\", \"cs_cz\": \"Czech\", \"cy_gb\": \"Welsh\", \"da_dk\": \"Danish\", \"de_de\": \"German\", \"el_gr\": \"Greek\", \"en_us\": \"English\", \"es_419\": \"Spanish\", \"et_ee\": \"Estonian\", \"fa_ir\": \"Persian\", \"fi_fi\": \"Finnish\", \"fil_ph\": \"Tagalog\", \"fr_fr\": \"French\", \"gl_es\": \"Galician\", \"gu_in\": \"Gujarati\", \"ha_ng\": \"Hausa\", \"he_il\": \"Hebrew\", \"hi_in\": \"Hindi\", \"hr_hr\": \"Croatian\", \"hu_hu\": \"Hungarian\", \"hy_am\": \"Armenian\", \"id_id\": \"Indonesian\", \"is_is\": \"Icelandic\", \"it_it\": \"Italian\", \"ja_jp\": \"Japanese\", \"jv_id\": \"Javanese\", \"ka_ge\": \"Georgian\", \"kk_kz\": \"Kazakh\", \"km_kh\": \"Khmer\", \"kn_in\": \"Kannada\", \"ko_kr\": \"Korean\", \"lb_lu\": \"Luxembourgish\", \"ln_cd\": \"Lingala\", \"lo_la\": \"Lao\", \"lt_lt\": \"Lithuanian\", \"lv_lv\": \"Latvian\", \"mi_nz\": \"Maori\", \"mk_mk\": \"Macedonian\", \"ml_in\": \"Malayalam\", \"mn_mn\": \"Mongolian\", \"mr_in\": \"Marathi\", \"ms_my\": \"Malay\", \"mt_mt\": \"Maltese\", \"my_mm\": \"Myanmar\", \"nb_no\": \"Norwegian\", \"ne_np\": \"Nepali\", \"nl_nl\": \"Dutch\", \"oc_fr\": \"Occitan\", \"pa_in\": \"Punjabi\", \"pl_pl\": \"Polish\", \"ps_af\": \"Pashto\", \"pt_br\": \"Portuguese\", \"ro_ro\": \"Romanian\", \"ru_ru\": \"Russian\", \"sd_in\": \"Sindhi\", \"sk_sk\": \"Slovak\", \"sl_si\": \"Slovenian\", \"sn_zw\": \"Shona\", \"so_so\": \"Somali\", \"sr_rs\": \"Serbian\", \"sv_se\": \"Swedish\", \"sw_ke\": \"Swahili\", \"ta_in\": \"Tamil\", \"te_in\": \"Telugu\", \"tg_tj\": \"Tajik\", \"th_th\": \"Thai\", \"tr_tr\": \"Turkish\", \"uk_ua\": \"Ukrainian\", \"ur_pk\": \"Urdu\", \"uz_uz\": \"Uzbek\", \"vi_vn\": \"Vietnamese\", \"yo_ng\": \"Yoruba\"}\n",
        "  options = dict(language=language, beam_size=5, best_of=5)\n",
        "  translate_options = dict(task=\"translate\", **options)\n",
        "  text_translate = model.transcribe(audio, **translate_options)\n",
        "  #Uncomment below if you need access to the entire dictionary, Default is only the text\n",
        "  return text_translate[\"text\"] , text_translate\n",
        "  \n",
        "\n",
        "\"\"\"\n",
        "#Same Function for Youtube Links:\n",
        "!pip install pytube\n",
        "import pytube\n",
        "def transcribe_summarize_yt(yt_link):\n",
        "  data = pytube.YouTube(yt_link)\n",
        "  audio_yt = data.streams.get_audio_only()\n",
        "  audio_yt_path = audio_yt.download()\n",
        "  text_dict = model.transcribe(audio_yt_path)\n",
        "  return text_dict[\"text\"]\n",
        "\"\"\"\n",
        "\n"
      ]
    },
    {
      "cell_type": "code",
      "execution_count": 3,
      "metadata": {
        "id": "aS1TLiQrJApE"
      },
      "outputs": [],
      "source": [
        "#Either provide link or mount drive and provide path to audio file\n",
        "audio1 = whisper.load_audio(\"/content/drive/MyDrive/Colab Notebooks/Audio(2)\")"
      ]
    },
    {
      "cell_type": "code",
      "execution_count": 4,
      "metadata": {
        "id": "ZBygUL9vLnbS"
      },
      "outputs": [],
      "source": [
        "#this can take some time, adjust inputs accordingly (language-name can be found in translate function)\n",
        "transcript_en, transcript_dict = translate(audio1, \"Danish\")"
      ]
    },
    {
      "cell_type": "code",
      "execution_count": 10,
      "metadata": {
        "id": "vEqYTIWzIu5s",
        "colab": {
          "base_uri": "https://localhost:8080/",
          "height": 88
        },
        "outputId": "6f04e324-955b-4e76-a785-026c18cb5f43"
      },
      "outputs": [
        {
          "output_type": "execute_result",
          "data": {
            "text/plain": [
              "\" There was once a Napoleon's hat in Vienna, and it was very strange, because there has never been a Napoleon's hat in Vienna There has only been a Napoleon's hat in Denmark So it didn't know what it was supposed to do, or what it was supposed to say, or what cafe it was supposed to go into And it also didn't know if anyone would eat it It was a bit scary, but at the same time it was very exciting to be in a new city And the chocolate was a bit different than it was in Denmark But it was still re\""
            ],
            "application/vnd.google.colaboratory.intrinsic+json": {
              "type": "string"
            }
          },
          "metadata": {},
          "execution_count": 10
        }
      ],
      "source": [
        "transcript_en[0:500]"
      ]
    },
    {
      "cell_type": "code",
      "source": [
        "#Gives you Timestamps, etc.\n",
        "transcript_dict"
      ],
      "metadata": {
        "id": "slzmUgDUOQgL"
      },
      "execution_count": null,
      "outputs": []
    },
    {
      "cell_type": "code",
      "source": [],
      "metadata": {
        "id": "3WyJethUPjVP"
      },
      "execution_count": null,
      "outputs": []
    }
  ],
  "metadata": {
    "accelerator": "GPU",
    "colab": {
      "provenance": []
    },
    "gpuClass": "standard",
    "kernelspec": {
      "display_name": "Python 3",
      "name": "python3"
    },
    "language_info": {
      "name": "python"
    }
  },
  "nbformat": 4,
  "nbformat_minor": 0
}
